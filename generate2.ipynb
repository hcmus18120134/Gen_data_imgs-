{
 "cells": [
  {
   "cell_type": "code",
   "execution_count": 9,
   "metadata": {},
   "outputs": [],
   "source": [
    "import os\n",
    "import numpy as np\n",
    "import random as rd\n",
    "import cv2 as cv\n"
   ]
  },
  {
   "cell_type": "code",
   "execution_count": 10,
   "metadata": {},
   "outputs": [],
   "source": [
    "\n",
    "\n",
    "seed = 2\n",
    "nameId = 8550\n",
    "\n",
    "for bgId in range(1,58):\n",
    "        for Id in range(1,51):\n",
    "                for classId in range(3,5):\n",
    "                        nameId = nameId + 1\n",
    "\n",
    "                        f = open(\"data/pos-\" + str(nameId) + \".txt\",\"w\")\n",
    "\n",
    "                        img_name = \"data_gen/\" + str(classId) + \"-\" + str(Id) + \".png\"\n",
    "                        img = cv.imread(img_name,cv.IMREAD_ANYCOLOR)\n",
    "                        img_h, img_w, _ = img.shape\n",
    "\n",
    "                        M = cv.getRotationMatrix2D((img_w / 2, img_h / 2), rd.randrange(-2,2),1)\n",
    "                        img = cv.warpAffine(img,M,(img_w,img_h))\n",
    "\n",
    "                        bg_name = \"bg/\" + str(bgId) + \".jpg\"\n",
    "                        bg = cv.imread(bg_name,cv.IMREAD_ANYCOLOR)\n",
    "                        bg_h, bg_w, _ = bg.shape\n",
    "\n",
    "                        img = cv.resize(img,(int(bg_h / img_h * img_w), bg_h))\n",
    "\n",
    "                        scale = rd.randrange(10,50)\n",
    "\n",
    "                        dst = cv.resize(img,(0,0),fx=scale/100,fy=scale/100)\n",
    "\n",
    "                        h, w, _ = dst.shape\n",
    "\n",
    "                        x = rd.randrange(0,bg_w - w)\n",
    "                        y = rd.randrange(0,bg_h - h)\n",
    "                        \n",
    "\n",
    "                        cx = x + w / 2\n",
    "                        cy = y + h / 2\n",
    "\n",
    "                        tmp = np.zeros((bg_h,bg_w,3), dtype=np.uint8)\n",
    "                        tmp[y:y+h,x:x+w] = dst\n",
    "\n",
    "                        for i in range(bg_h):\n",
    "                                for j in range(bg_w):\n",
    "                                        if(tmp.item(i,j,0) + tmp.item(i,j,1) + tmp.item(i,j,2) == 0):\n",
    "                                                tmp[i,j] = bg[i,j]\n",
    "\n",
    "\n",
    "                        f.write(\"{0} {1} {2} {3} {4}\".format(classId , cx/bg_w, cy/bg_h , w/bg_w , h/bg_h))\n",
    "\n",
    "                        cv.imwrite(\"data/pos-\" + str(nameId) + \".jpg\", tmp)"
   ]
  },
  {
   "cell_type": "code",
   "execution_count": null,
   "metadata": {},
   "outputs": [],
   "source": []
  }
 ],
 "metadata": {
  "kernelspec": {
   "display_name": "Python 3",
   "language": "python",
   "name": "python3"
  },
  "language_info": {
   "codemirror_mode": {
    "name": "ipython",
    "version": 3
   },
   "file_extension": ".py",
   "mimetype": "text/x-python",
   "name": "python",
   "nbconvert_exporter": "python",
   "pygments_lexer": "ipython3",
   "version": "3.7.0"
  }
 },
 "nbformat": 4,
 "nbformat_minor": 2
}
