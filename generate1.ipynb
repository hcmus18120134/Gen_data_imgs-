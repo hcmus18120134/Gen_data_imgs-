{
 "cells": [
  {
   "cell_type": "code",
   "execution_count": 84,
   "metadata": {},
   "outputs": [],
   "source": [
    "import Augmentor\n",
    "import random "
   ]
  },
  {
   "cell_type": "code",
   "execution_count": 85,
   "metadata": {},
   "outputs": [
    {
     "name": "stdout",
     "output_type": "stream",
     "text": [
      "Initialised with 5 image(s) found.\n",
      "Output directory set to obj4/output."
     ]
    }
   ],
   "source": [
    "\n",
    "p = Augmentor.Pipeline(\"obj4/\");"
   ]
  },
  {
   "cell_type": "code",
   "execution_count": 86,
   "metadata": {},
   "outputs": [],
   "source": [
    "#p.random_distortion(probability=0.8, grid_width=8, grid_height=8, magnitude=2);\n",
    "#p.zoom(probability=0.5, min_factor=1.1, max_factor=1.5);\n",
    "p.crop_random(probability = 0.7, percentage_area = 0.95);\n",
    "x =  random.randint(1, 3);\n",
    "#p.skew_tilt(probability=1);\n",
    "p.skew_corner(probability=0.5,magnitude=0.4);\n",
    "#p.shear(probability = 0.8,max_shear_left = 20,max_shear_right = 20);"
   ]
  },
  {
   "cell_type": "code",
   "execution_count": 87,
   "metadata": {},
   "outputs": [
    {
     "name": "stderr",
     "output_type": "stream",
     "text": [
      "Processing <PIL.Image.Image image mode=RGB size=36x39 at 0x1128F72E8>: 100%|██████████| 100/100 [00:00<00:00, 103.13 Samples/s]               \n"
     ]
    }
   ],
   "source": [
    "p.sample(100);"
   ]
  },
  {
   "cell_type": "code",
   "execution_count": null,
   "metadata": {},
   "outputs": [],
   "source": []
  },
  {
   "cell_type": "code",
   "execution_count": null,
   "metadata": {},
   "outputs": [],
   "source": []
  }
 ],
 "metadata": {
  "kernelspec": {
   "display_name": "Python 3",
   "language": "python",
   "name": "python3"
  },
  "language_info": {
   "codemirror_mode": {
    "name": "ipython",
    "version": 3
   },
   "file_extension": ".py",
   "mimetype": "text/x-python",
   "name": "python",
   "nbconvert_exporter": "python",
   "pygments_lexer": "ipython3",
   "version": "3.7.0"
  }
 },
 "nbformat": 4,
 "nbformat_minor": 2
}
